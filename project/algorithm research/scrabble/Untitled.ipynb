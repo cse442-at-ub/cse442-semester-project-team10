{
 "cells": [
  {
   "cell_type": "code",
   "execution_count": 110,
   "metadata": {},
   "outputs": [],
   "source": [
    "import json"
   ]
  },
  {
   "cell_type": "code",
   "execution_count": 174,
   "metadata": {},
   "outputs": [
    {
     "name": "stdout",
     "output_type": "stream",
     "text": [
      "Does 'here' exist? True\n",
      "['anopheles', 'uniclinal', 'sarong', 'turcoman', 'corrugator', 'self-murder', 'anacardium', 'knurly', 'pock', 'neuroma']\n"
     ]
    }
   ],
   "source": [
    "with open('data/dictionary.json', 'r') as f:\n",
    "    dictionary = json.load(f)\n",
    "    word_list = list(dictionary.keys())\n",
    "    \n",
    "word = 'here'\n",
    "print('Does \\'{}\\' exist? {}'.format(word,bool(dictionary[word])))\n",
    "\n",
    "print(word_list[:10])"
   ]
  },
  {
   "cell_type": "code",
   "execution_count": 112,
   "metadata": {},
   "outputs": [
    {
     "name": "stdout",
     "output_type": "stream",
     "text": [
      "{'A': 1, 'B': 4, 'C': 4, 'D': 2, 'E': 1, 'F': 4, 'G': 3, 'H': 3, 'I': 1, 'J': 10, 'K': 5, 'L': 2, 'M': 4, 'N': 2, 'O': 1, 'P': 4, 'Q': 10, 'R': 1, 'S': 1, 'T': 1, 'U': 2, 'V': 5, 'W': 4, 'X': 8, 'Y': 3, 'Z': 10, 'BLANK': 0}\n"
     ]
    }
   ],
   "source": [
    "with open('data/letterValues.json', 'r') as f:\n",
    "    letter_values = json.load(f)\n",
    "    \n",
    "print(letter_values)"
   ]
  },
  {
   "cell_type": "markdown",
   "metadata": {},
   "source": [
    "We have a 11 x 11 board.\n",
    "The plan is to iterate through all the tiles and try to find a word that starts at that tile. Then find all words that are valid and sort them by points"
   ]
  },
  {
   "cell_type": "code",
   "execution_count": 113,
   "metadata": {},
   "outputs": [],
   "source": [
    "n = 11\n",
    "board_constraints = [] # This is the tiles on the board.\n",
    "for i in range(n):\n",
    "    board_constraints.append([])\n",
    "    for j in range(n):\n",
    "        board_constraints[i].append('')\n",
    "# print(board_constraints[1])\n",
    "\n",
    "def board_constraints_valid(word, i, j, direction):\n",
    "    \"\"\"\n",
    "        word: the guessed word (str)\n",
    "        (i,j): the starting point of the word\n",
    "        direction of the guess\n",
    "    \"\"\"\n",
    "    validity = True\n",
    "    \n",
    "    for index in range(len(word)):\n",
    "        if direction is 0:\n",
    "            pos_x = i+index\n",
    "            pos_y = j\n",
    "            \n",
    "        elif direction is 1:\n",
    "            pos_x = i\n",
    "            pos_y = j+index\n",
    "        \n",
    "#         print(type(pos_x), type(pos_y))\n",
    "        if board_constraints[pos_x][pos_y] is not '':\n",
    "            if board_constraints[pos_x][pos_y] is not word[index]:\n",
    "                validity = False\n",
    "        \n",
    "    return validity"
   ]
  },
  {
   "cell_type": "code",
   "execution_count": 161,
   "metadata": {
    "scrolled": true
   },
   "outputs": [
    {
     "name": "stdout",
     "output_type": "stream",
     "text": [
      "True\n",
      "False\n",
      "False\n"
     ]
    }
   ],
   "source": [
    "print(board_constraints_valid('asd',0,0,0))\n",
    "\n",
    "# print(board_constraints)\n",
    "board_constraints[5][5] = 'w'\n",
    "board_constraints[10][10] = 's'\n",
    "print(board_constraints_valid('asd',5,4,1))\n",
    "\n",
    "print(board_constraints_valid('aWd',5,4,1))"
   ]
  },
  {
   "cell_type": "code",
   "execution_count": 162,
   "metadata": {},
   "outputs": [],
   "source": [
    "n = 11\n",
    "adjacent_tiles = [] # This is the tiles on the board.\n",
    "for i in range(n):\n",
    "    adjacent_tiles.append([])\n",
    "    for j in range(n):\n",
    "        adjacent_tiles[i].append(0)\n",
    "\n",
    "# for row in adjacent_tiles:\n",
    "#     print(row)\n",
    "    \n",
    "total = 0\n",
    "for i in range(n):\n",
    "    for j in range(n):\n",
    "        if board_constraints[i][j] is not '':\n",
    "            total += 1\n",
    "            \n",
    "            if i > 0:\n",
    "                adjacent_tiles[i-1][j] = 1\n",
    "            if i < n-1:\n",
    "                adjacent_tiles[i+1][j] = 1\n",
    "            if j > 0:\n",
    "                adjacent_tiles[i][j-1] = 1\n",
    "            if j < n-1:\n",
    "                adjacent_tiles[i][j+1] = 1\n",
    "                \n",
    "if total is 0:\n",
    "    adjacent_tiles[5][5] = 1\n",
    "\n",
    "# print()\n",
    "# for row in adjacent_tiles:\n",
    "#     print(row)\n",
    "    \n",
    "    \n",
    "def adjacent_tiles_valid(word, i, j, direction):\n",
    "    \"\"\"\n",
    "        word: the guessed word (str)\n",
    "        (i,j): the starting point of the word\n",
    "        direction of the guess\n",
    "    \"\"\"\n",
    "    validity = False\n",
    "    \n",
    "    for index in range(len(word)):\n",
    "        if direction is 0:\n",
    "            pos_x = i+index\n",
    "            pos_y = j\n",
    "\n",
    "        elif direction is 1:\n",
    "            pos_x = i\n",
    "            pos_y = j+index\n",
    "\n",
    "    #         print(type(pos_x), type(pos_y))\n",
    "        if adjacent_tiles[pos_x][pos_y] is 1:\n",
    "            # check if the adjacent tiles make words\n",
    "            \n",
    "            \n",
    "            if board_constraints[pos_x][pos_y-1] is not '':\n",
    "                w = []\n",
    "                while True:\n",
    "                    index_i = pos_x\n",
    "                    index_j = pos_y-1\n",
    "                    if board_constraints[index_i][index_j] is '':\n",
    "                        break\n",
    "                    w.insert(0, board_constraints[index_i][index_j])\n",
    "            if board_constraints[pos_x][pos_y+1] is not '':\n",
    "            if board_constraints[pos_x-1][pos_y] is not '':\n",
    "            if board_constraints[pos_x+1][pos_y] is not '':\n",
    "                \n",
    "                return True\n",
    "\n",
    "    return False"
   ]
  },
  {
   "cell_type": "code",
   "execution_count": 163,
   "metadata": {},
   "outputs": [
    {
     "name": "stdout",
     "output_type": "stream",
     "text": [
      "False\n",
      "True\n",
      "False\n",
      "True\n"
     ]
    }
   ],
   "source": [
    "print(adjacent_tiles_valid('asd',0,0,0))\n",
    "\n",
    "# print(board_constraints)\n",
    "# board_constraints[5][5] = 'w'\n",
    "# board_constraints[10][10] = 's'\n",
    "print(adjacent_tiles_valid('asd',5,4,1))\n",
    "\n",
    "print(board_constraints_valid('aWd',5,3,1)) # vertical\n",
    "print(board_constraints_valid('aWd',5,3,0)) # horizontal"
   ]
  },
  {
   "cell_type": "code",
   "execution_count": 164,
   "metadata": {},
   "outputs": [],
   "source": [
    "import copy"
   ]
  },
  {
   "cell_type": "code",
   "execution_count": 176,
   "metadata": {},
   "outputs": [
    {
     "name": "stdout",
     "output_type": "stream",
     "text": [
      "['t', 'r', 'i', 'n', 'g']\n"
     ]
    }
   ],
   "source": [
    "my_tiles = 'tring'\n",
    "\n",
    "tiles_list = []\n",
    "for t in my_tiles:\n",
    "    tiles_list.append(t)\n",
    "print(tiles_list)\n",
    "\n",
    "def my_tiles_valid(word, i, j, direction):\n",
    "    \"\"\"\n",
    "        word: the guessed word (str)\n",
    "        (i,j): the starting point of the word\n",
    "        direction of the guess\n",
    "    \"\"\"\n",
    "    \n",
    "    validity = True\n",
    "    tiles_available = copy.deepcopy(tiles_list)\n",
    "    \n",
    "    for index in range(len(word)):\n",
    "        if direction is 0:\n",
    "            pos_x = i+index\n",
    "            pos_y = j\n",
    "\n",
    "        elif direction is 1:\n",
    "            pos_x = i\n",
    "            pos_y = j+index\n",
    "\n",
    "    #         print(type(pos_x), type(pos_y))\n",
    "        if board_constraints[pos_x][pos_y] is not '':\n",
    "            continue\n",
    "        \n",
    "        try:\n",
    "            tiles_available.remove(word[index])\n",
    "        except ValueError:\n",
    "            return False\n",
    "            \n",
    "    return True"
   ]
  },
  {
   "cell_type": "code",
   "execution_count": 177,
   "metadata": {},
   "outputs": [
    {
     "name": "stdout",
     "output_type": "stream",
     "text": [
      "['t', 'r', 'i', 'n', 'g']\n",
      "\n",
      "['', '', '', '', '', '', '', '', '', '', '']\n",
      "['', '', '', '', '', '', '', '', '', '', '']\n",
      "['', '', '', '', '', '', '', '', '', '', '']\n",
      "['', '', '', '', '', '', '', '', '', '', '']\n",
      "['', '', '', '', '', '', '', '', '', '', '']\n",
      "['', '', '', '', '', 'w', '', '', '', '', '']\n",
      "['', '', '', '', '', '', '', '', '', '', '']\n",
      "['', '', '', '', '', '', '', '', '', '', '']\n",
      "['', '', '', '', '', '', '', '', '', '', '']\n",
      "['', '', '', '', '', '', '', '', '', '', '']\n",
      "['', '', '', '', '', '', '', '', '', '', 's']\n",
      "\n",
      "False\n",
      "False\n",
      "False\n",
      "False\n"
     ]
    }
   ],
   "source": [
    "print(tiles_list)\n",
    "print()\n",
    "for row in board_constraints:\n",
    "    print(row)\n",
    "print()\n",
    "\n",
    "print(my_tiles_valid('string',0,0,0))\n",
    "print(my_tiles_valid('strings',0,0,0))\n",
    "\n",
    "print(my_tiles_valid('stringw',0,5,0))\n",
    "print(my_tiles_valid('strinwg',0,5,0))"
   ]
  },
  {
   "cell_type": "code",
   "execution_count": 189,
   "metadata": {},
   "outputs": [],
   "source": [
    "def word_bounds_valid(word, i, j, direction):\n",
    "    \"\"\"\n",
    "        word: the guessed word (str)\n",
    "        (i,j): the starting point of the word\n",
    "        direction of the guess\n",
    "    \"\"\"    \n",
    "    if direction is 0:\n",
    "        pos_x = i+len(word)-1\n",
    "        pos_y = j\n",
    "\n",
    "    elif direction is 1:\n",
    "        pos_x = i\n",
    "        pos_y = j+len(word)-1\n",
    "\n",
    "    if pos_x > n-1 or pos_y > n-1:\n",
    "        return False\n",
    "    \n",
    "    return True"
   ]
  },
  {
   "cell_type": "code",
   "execution_count": 191,
   "metadata": {},
   "outputs": [
    {
     "name": "stdout",
     "output_type": "stream",
     "text": [
      "False\n",
      "True\n",
      "True\n",
      "True\n"
     ]
    }
   ],
   "source": [
    "print(word_bounds_valid('asdfghjklkjhasd',0,0,0))\n",
    "print(word_bounds_valid('asdfghj',0,0,0))\n",
    "print(word_bounds_valid('a',10,10,0))\n",
    "print(word_bounds_valid('a',9,10,0))"
   ]
  },
  {
   "cell_type": "code",
   "execution_count": 192,
   "metadata": {},
   "outputs": [
    {
     "name": "stdout",
     "output_type": "stream",
     "text": [
      "['t', 'r', 'i', 'n', 'g'] \n",
      "\n",
      "['', '', '', '', '', '', '', '', '', '', '']\n",
      "['', '', '', '', '', '', '', '', '', '', '']\n",
      "['', '', '', '', '', '', '', '', '', '', '']\n",
      "['', '', '', '', '', '', '', '', '', '', '']\n",
      "['', '', '', '', '', '', '', '', '', '', '']\n",
      "['', '', '', '', '', 'w', '', '', '', '', '']\n",
      "['', '', '', '', '', '', '', '', '', '', '']\n",
      "['', '', '', '', '', '', '', '', '', '', '']\n",
      "['', '', '', '', '', '', '', '', '', '', '']\n",
      "['', '', '', '', '', '', '', '', '', '', '']\n",
      "['', '', '', '', '', '', '', '', '', '', 's']\n",
      "\n",
      "[0, 0, 0, 0, 0, 0, 0, 0, 0, 0, 0]\n",
      "[0, 0, 0, 0, 0, 0, 0, 0, 0, 0, 0]\n",
      "[0, 0, 0, 0, 0, 0, 0, 0, 0, 0, 0]\n",
      "[0, 0, 0, 0, 0, 0, 0, 0, 0, 0, 0]\n",
      "[0, 0, 0, 0, 0, 1, 0, 0, 0, 0, 0]\n",
      "[0, 0, 0, 0, 1, 0, 1, 0, 0, 0, 0]\n",
      "[0, 0, 0, 0, 0, 1, 0, 0, 0, 0, 0]\n",
      "[0, 0, 0, 0, 0, 0, 0, 0, 0, 0, 0]\n",
      "[0, 0, 0, 0, 0, 0, 0, 0, 0, 0, 0]\n",
      "[0, 0, 0, 0, 0, 0, 0, 0, 0, 0, 1]\n",
      "[0, 0, 0, 0, 0, 0, 0, 0, 0, 1, 0]\n",
      "\n"
     ]
    }
   ],
   "source": [
    "print(tiles_list,'\\n')\n",
    "\n",
    "for row in board_constraints:\n",
    "    print(row)\n",
    "print()\n",
    "\n",
    "for row in adjacent_tiles:\n",
    "    print(row)\n",
    "print()"
   ]
  },
  {
   "cell_type": "code",
   "execution_count": 203,
   "metadata": {
    "scrolled": true
   },
   "outputs": [
    {
     "name": "stdout",
     "output_type": "stream",
     "text": [
      "232\n",
      "464\n"
     ]
    }
   ],
   "source": [
    "# my_tiles: The tiles that I can use to make words\n",
    "# adjacent_tiles: I need to pass through one of these tiles\n",
    "# board_constraints: The tiles that are already on the board\n",
    "# this function requires baord_constraints, adjacent_tiles, and my_tiles\n",
    "\n",
    "def tiles_valid(word):\n",
    "    \"\"\"\n",
    "    makes sure the guessed word consists of my tiles \n",
    "    and tiles in the path of the word\n",
    "    \"\"\"\n",
    "    \n",
    "\n",
    "    \n",
    "\n",
    "\n",
    "n = 11\n",
    "possible_words = []\n",
    "for i in range(n):\n",
    "    for j in range(n):\n",
    "        for word in word_list:\n",
    "                if (\n",
    "                    word_bounds_valid(word, i, j, 0) and \n",
    "                    board_constraints_valid(word, i, j, 0) and\n",
    "                    adjacent_tiles_valid(word, i, j, 0) and \n",
    "                    my_tiles_valid(word, i, j, 0)\n",
    "                ):\n",
    "                    possible_words.append([word, i, j, 0])\n",
    "                                           \n",
    "print(len(possible_words))\n",
    "\n",
    "for i in range(n):\n",
    "    for j in range(n):\n",
    "        for word in word_list:\n",
    "                if (\n",
    "                    word_bounds_valid(word, i, j, 1) and \n",
    "                    board_constraints_valid(word, i, j, 1) and\n",
    "                    adjacent_tiles_valid(word, i, j, 1) and \n",
    "                    my_tiles_valid(word, i, j, 1)\n",
    "                ):\n",
    "                    possible_words.append([word, i, j, 1])\n",
    "\n",
    "print(len(possible_words))         "
   ]
  },
  {
   "cell_type": "code",
   "execution_count": 207,
   "metadata": {
    "scrolled": true
   },
   "outputs": [
    {
     "name": "stdout",
     "output_type": "stream",
     "text": [
      "['grint', 0, 5, 0]\n",
      "['grint', 1, 4, 0]\n",
      "['ring', 1, 5, 0]\n",
      "['girt', 1, 5, 0]\n",
      "['girn', 1, 5, 0]\n",
      "['grit', 1, 5, 0]\n",
      "['trig', 1, 5, 0]\n",
      "['ting', 1, 5, 0]\n",
      "['grin', 1, 5, 0]\n",
      "['grint', 1, 6, 0]\n",
      "['ring', 2, 4, 0]\n",
      "['girt', 2, 4, 0]\n",
      "['girn', 2, 4, 0]\n",
      "['grit', 2, 4, 0]\n",
      "['trig', 2, 4, 0]\n",
      "['ting', 2, 4, 0]\n",
      "['grint', 2, 4, 0]\n",
      "['grin', 2, 4, 0]\n",
      "['rit', 2, 5, 0]\n",
      "['nit', 2, 5, 0]\n"
     ]
    }
   ],
   "source": [
    "for w in possible_words[:20]:\n",
    "    print(w)"
   ]
  },
  {
   "cell_type": "code",
   "execution_count": 197,
   "metadata": {},
   "outputs": [],
   "source": [
    "# word_bounds_valid('gris', 7, 10, 0)"
   ]
  },
  {
   "cell_type": "code",
   "execution_count": 196,
   "metadata": {
    "scrolled": true
   },
   "outputs": [],
   "source": [
    "# dictionary['gris']"
   ]
  },
  {
   "cell_type": "code",
   "execution_count": null,
   "metadata": {},
   "outputs": [],
   "source": [
    "# need function that determines if connected word is valid\n"
   ]
  }
 ],
 "metadata": {
  "kernelspec": {
   "display_name": "Python 3",
   "language": "python",
   "name": "python3"
  },
  "language_info": {
   "codemirror_mode": {
    "name": "ipython",
    "version": 3
   },
   "file_extension": ".py",
   "mimetype": "text/x-python",
   "name": "python",
   "nbconvert_exporter": "python",
   "pygments_lexer": "ipython3",
   "version": "3.6.10"
  }
 },
 "nbformat": 4,
 "nbformat_minor": 2
}
