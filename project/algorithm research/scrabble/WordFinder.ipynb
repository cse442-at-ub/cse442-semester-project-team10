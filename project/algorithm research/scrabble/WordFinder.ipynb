{
 "cells": [
  {
   "cell_type": "code",
   "execution_count": 82,
   "metadata": {},
   "outputs": [],
   "source": [
    "with open('data/Dictionary_Array.txt','r') as f:\n",
    "    dictionary_list = []\n",
    "    for line in f:\n",
    "        word = line.split('\"')[1]\n",
    "        dictionary_list.append(word)\n",
    "        "
   ]
  },
  {
   "cell_type": "code",
   "execution_count": 83,
   "metadata": {},
   "outputs": [],
   "source": [
    "dictionary = {}\n",
    "for word in dictionary_list:\n",
    "    dictionary[word] = True\n",
    "    \n",
    "def terminal(node):\n",
    "    try:\n",
    "        dictionary[str(node)]\n",
    "        return True \n",
    "    except KeyError:\n",
    "        return False"
   ]
  },
  {
   "cell_type": "code",
   "execution_count": 84,
   "metadata": {},
   "outputs": [],
   "source": [
    "trie = { '': [] }\n",
    "for word in dictionary_list:\n",
    "    if word[0] not in trie['']:\n",
    "        trie[''].append(word[0])\n",
    "    for i in range(1,len(word)):\n",
    "        piece = str(word[:i])\n",
    "        next_piece = str(word[:i+1])\n",
    "        # i only goes to the second last letter\n",
    "        try:\n",
    "            if next_piece not in trie[piece]:\n",
    "                trie[piece].append(next_piece)\n",
    "        except KeyError:\n",
    "            trie[piece] = [next_piece]"
   ]
  },
  {
   "cell_type": "code",
   "execution_count": 85,
   "metadata": {},
   "outputs": [
    {
     "data": {
      "text/plain": [
       "279106"
      ]
     },
     "execution_count": 85,
     "metadata": {},
     "output_type": "execute_result"
    }
   ],
   "source": [
    "len(trie.keys())"
   ]
  },
  {
   "cell_type": "code",
   "execution_count": 86,
   "metadata": {},
   "outputs": [],
   "source": [
    "reverse_trie = {}\n",
    "\n",
    "for word in dictionary_list:\n",
    "    for i in range(len(word)-1,0,-1):\n",
    "        piece = str(word[i:])\n",
    "        next_piece = str(word[i-1:])\n",
    "        # i only goes to the second last letter\n",
    "        try:\n",
    "            if next_piece not in reverse_trie[piece]:\n",
    "                reverse_trie[piece].append(next_piece)\n",
    "        except KeyError:\n",
    "            reverse_trie[piece] = [next_piece]"
   ]
  },
  {
   "cell_type": "code",
   "execution_count": 87,
   "metadata": {},
   "outputs": [
    {
     "data": {
      "text/plain": [
       "361859"
      ]
     },
     "execution_count": 87,
     "metadata": {},
     "output_type": "execute_result"
    }
   ],
   "source": [
    "len(reverse_trie.keys())"
   ]
  },
  {
   "cell_type": "code",
   "execution_count": 88,
   "metadata": {
    "scrolled": true
   },
   "outputs": [
    {
     "name": "stdout",
     "output_type": "stream",
     "text": [
      "AHED\n",
      "['AAHED', 'RAHED', 'ZAHED', 'PAHED', 'DAHED']\n",
      "['ZZAHED']\n",
      "['UZZAHED']\n",
      "True\n"
     ]
    }
   ],
   "source": [
    "print(list(reverse_trie.keys())[6])\n",
    "print(reverse_trie['AHED'])\n",
    "print(reverse_trie['ZAHED'])\n",
    "print(reverse_trie['ZZAHED'])\n",
    "print(terminal('HUZZAHED'))"
   ]
  },
  {
   "cell_type": "code",
   "execution_count": 196,
   "metadata": {},
   "outputs": [
    {
     "name": "stdout",
     "output_type": "stream",
     "text": [
      "['*', '*', '*', '*', '*', '*', '*', '*', '*', '*', '*', '*', '*']\n",
      "['*', '', '', '', '', '', '', '', '', '', '', '', '*']\n",
      "['*', '', '', '', '', '', '', '', '', '', '', '', '*']\n",
      "['*', '', '', '', '', '', '', '', '', '', '', '', '*']\n",
      "['*', '', '', 'Q', '', '', '', '', '', '', '', '', '*']\n",
      "['*', '', '', '', '', '', '', '', '', '', '', '', '*']\n",
      "['*', '', '', '', '', '', '', '', '', '', '', '', '*']\n",
      "['*', '', '', '', '', '', '', '', '', '', '', '', '*']\n",
      "['*', '', '', '', '', '', '', '', '', '', '', '', '*']\n",
      "['*', '', '', '', '', '', '', '', '', '', '', '', '*']\n",
      "['*', '', '', '', '', '', '', '', '', '', '', '', '*']\n",
      "['*', '', '', '', '', '', '', '', '', '', '', '', '*']\n",
      "['*', '*', '*', '*', '*', '*', '*', '*', '*', '*', '*', '*', '*']\n"
     ]
    }
   ],
   "source": [
    "rows = columns = 13\n",
    "\n",
    "board = []\n",
    "for i in range(rows):\n",
    "    board.append([])\n",
    "    for j in range(columns):\n",
    "        \n",
    "        if i == 0 or i == 12 or j == 0 or j == 12:\n",
    "            board[i].append('*')\n",
    "        else:\n",
    "            board[i].append('')\n",
    "\n",
    "    \n",
    "board[4][3] = 'Q'\n",
    "\n",
    "for row in board:\n",
    "    print(row)"
   ]
  },
  {
   "cell_type": "code",
   "execution_count": null,
   "metadata": {},
   "outputs": [],
   "source": []
  },
  {
   "cell_type": "code",
   "execution_count": 259,
   "metadata": {},
   "outputs": [],
   "source": [
    "def vacant(square = (0,0)):\n",
    "    if board[square[0]][square[1]] in ['']:\n",
    "        return True\n",
    "    else:\n",
    "        return False\n",
    "    \n",
    "def get_letter(square = (0,0)):\n",
    "    return board[square[0]][square[1]]"
   ]
  },
  {
   "cell_type": "code",
   "execution_count": 260,
   "metadata": {},
   "outputs": [],
   "source": [
    "anchor_points = []\n",
    "for i in range(rows):\n",
    "    anchor_points.append([])\n",
    "    for j in range(columns):\n",
    "        anchor_points[i].append(False)\n",
    "\n",
    "        \n",
    "total = 0\n",
    "for i in range(rows):\n",
    "    for j in range(columns):\n",
    "        if board[i][j] not in ['','*']:\n",
    "            total += 1\n",
    "            \n",
    "            if i > 1:\n",
    "                anchor_points[i-1][j] = True\n",
    "            if i < rows-2:\n",
    "                anchor_points[i+1][j] = True\n",
    "            if j > 1:\n",
    "                anchor_points[i][j-1] = True\n",
    "            if j < rows-2:\n",
    "                anchor_points[i][j+1] = True\n",
    "                \n",
    "if total is 0:\n",
    "    anchor_points[int(rows/2)][int(columns/2)] = True"
   ]
  },
  {
   "cell_type": "code",
   "execution_count": 261,
   "metadata": {},
   "outputs": [],
   "source": [
    "alphabet = trie['']\n",
    "# alphabet"
   ]
  },
  {
   "cell_type": "code",
   "execution_count": 262,
   "metadata": {},
   "outputs": [
    {
     "name": "stdout",
     "output_type": "stream",
     "text": [
      "[False, False, False, False, False, False, False, False, False, False, False, False, False]\n",
      "[False, False, False, False, False, False, False, False, False, False, False, False, False]\n",
      "[False, False, False, False, False, False, False, False, False, False, False, False, False]\n",
      "[False, False, False, True, False, False, False, False, False, False, False, False, False]\n",
      "[False, False, True, False, True, False, False, False, False, False, False, False, False]\n",
      "[False, False, False, True, False, False, False, False, False, False, False, False, False]\n",
      "[False, False, False, False, False, False, False, False, False, False, False, False, False]\n",
      "[False, False, False, False, False, False, False, False, False, False, False, False, False]\n",
      "[False, False, False, False, False, False, False, False, False, False, False, False, False]\n",
      "[False, False, False, False, False, False, False, False, False, False, False, False, False]\n",
      "[False, False, False, False, False, False, False, False, False, False, False, False, False]\n",
      "[False, False, False, False, False, False, False, False, False, False, False, False, False]\n",
      "[False, False, False, False, False, False, False, False, False, False, False, False, False]\n"
     ]
    }
   ],
   "source": [
    "for row in anchor_points:\n",
    "    print(row)"
   ]
  },
  {
   "cell_type": "code",
   "execution_count": null,
   "metadata": {},
   "outputs": [],
   "source": []
  },
  {
   "cell_type": "code",
   "execution_count": 263,
   "metadata": {},
   "outputs": [],
   "source": [
    "def cross_checks():\n",
    "    output = []\n",
    "    \n",
    "    for i in range(rows):\n",
    "        output.append([])\n",
    "        for j in range(columns):\n",
    "            output[i].append([])\n",
    "            if anchor_points[i][j]:\n",
    "                #traverse up and down the trie's\n",
    "                above = ''\n",
    "                below = ''\n",
    "\n",
    "                for disp in range(1,13):\n",
    "                    if not vacant((i-disp,j)):\n",
    "                        above = board[i-disp][j] + above\n",
    "                    else:\n",
    "                        break\n",
    "\n",
    "                for disp in range(1,13):\n",
    "                    if not vacant((i+disp,j)):\n",
    "                        below = board[i+disp][j] + below\n",
    "                    else:\n",
    "                        break\n",
    "\n",
    "                if above == below == '':\n",
    "                    output[i][j] = alphabet\n",
    "                else:\n",
    "                    for letter in alphabet:\n",
    "                        if terminal(str(above+letter+below)):\n",
    "                            output[i][j].append(letter)\n",
    "                            \n",
    "            elif vacant((i,j)): \n",
    "                output[i][j] = alphabet    \n",
    "            \n",
    "                \n",
    "                \n",
    "    return output"
   ]
  },
  {
   "cell_type": "code",
   "execution_count": 272,
   "metadata": {
    "scrolled": true
   },
   "outputs": [
    {
     "name": "stdout",
     "output_type": "stream",
     "text": [
      "   \n",
      "0 0 0 0 0 0 0 0 0 0 0 0 0    \n",
      "0 26 26 26 26 26 26 26 26 26 26 26 0    \n",
      "0 26 26 26 26 26 26 26 26 26 26 26 0    \n",
      "0 26 26 0 26 26 26 26 26 26 26 26 0    \n",
      "0 26 26 0 26 26 26 26 26 26 26 26 0    \n",
      "0 26 26 1 26 26 26 26 26 26 26 26 0    \n",
      "0 26 26 26 26 26 26 26 26 26 26 26 0    \n",
      "0 26 26 26 26 26 26 26 26 26 26 26 0    \n",
      "0 26 26 26 26 26 26 26 26 26 26 26 0    \n",
      "0 26 26 26 26 26 26 26 26 26 26 26 0    \n",
      "0 26 26 26 26 26 26 26 26 26 26 26 0    \n",
      "0 26 26 26 26 26 26 26 26 26 26 26 0    \n",
      "0 0 0 0 0 0 0 0 0 0 0 0 0 "
     ]
    }
   ],
   "source": [
    "# for row in board:\n",
    "#     print(row)\n",
    "\n",
    "# for row in anchor_points:\n",
    "#     print(row)\n",
    "\n",
    "# print(len(cross_checks()))\n",
    "for i in range(13):\n",
    "    print(\"   \")\n",
    "    for j in range(13):\n",
    "        print(len(cross_checks()[i][j]), end =\" \")"
   ]
  },
  {
   "cell_type": "code",
   "execution_count": 304,
   "metadata": {},
   "outputs": [
    {
     "data": {
      "text/plain": [
       "['UQ', 'NQ', 'AQ']"
      ]
     },
     "execution_count": 304,
     "metadata": {},
     "output_type": "execute_result"
    }
   ],
   "source": [
    "reverse_trie['Q']"
   ]
  },
  {
   "cell_type": "code",
   "execution_count": 277,
   "metadata": {},
   "outputs": [],
   "source": [
    "# for row in anchor_points:\n",
    "#     print(row)"
   ]
  },
  {
   "cell_type": "code",
   "execution_count": 532,
   "metadata": {
    "scrolled": true
   },
   "outputs": [],
   "source": [
    "def LeftPart(partial_word, limit, left_square):\n",
    "#     print(partial_word,limit)\n",
    "    if not vacant(left_square):\n",
    "        ExtendRight(get_letter(left_square)+partial_word, anchor_square)\n",
    "    else:    \n",
    "        ExtendRight(partial_word, anchor_square)\n",
    "        if limit > 0:\n",
    "            for edge in trie[str(partial_word)]:\n",
    "                letter = edge[-1]\n",
    "                if letter in rack:\n",
    "                    rack.remove(letter)\n",
    "                    LeftPart(partial_word+letter, limit-1,left_square)\n",
    "                    rack.append(letter)\n"
   ]
  },
  {
   "cell_type": "code",
   "execution_count": 533,
   "metadata": {},
   "outputs": [],
   "source": [
    "def ExtendRight(partial_word, square):\n",
    "    \n",
    "    if not vacant(square):\n",
    "        letter = get_letter(square)\n",
    "        try:\n",
    "            next_word = str(partial_word+letter)\n",
    "            trie[next_word]\n",
    "            next_square = (square[0], square[1]+1)\n",
    "            ExtendRight(partial_word+letter, next_square)\n",
    "        except KeyError:\n",
    "            pass\n",
    "    \n",
    "    elif terminal(partial_word) and square != anchor_square:\n",
    "#           print(partial_word)\n",
    "#         print(square, partial_word)\n",
    "        legal_moves.append(partial_word)\n",
    "#            next_square = square\n",
    "\n",
    "    elif vacant(square):  \n",
    "        for edge in trie[str(partial_word)]:\n",
    "            letter = edge[-1]\n",
    "            if letter in rack and letter in cross_check(square):\n",
    "\n",
    "#                 print(letter, square)\n",
    "                rack.remove(letter)\n",
    "    \n",
    "                next_square = (square[0], square[1]+1) # to the right\n",
    "                ExtendRight(partial_word+letter,next_square)\n",
    "                rack.append(letter)    "
   ]
  },
  {
   "cell_type": "code",
   "execution_count": null,
   "metadata": {},
   "outputs": [],
   "source": []
  },
  {
   "cell_type": "code",
   "execution_count": 546,
   "metadata": {},
   "outputs": [
    {
     "name": "stdout",
     "output_type": "stream",
     "text": [
      "[False, False, False, False, False, False, False, False, False, False, False, False, False]\n",
      "[False, False, False, False, False, False, False, False, False, False, False, False, False]\n",
      "[False, False, False, False, False, False, False, False, False, False, False, False, False]\n",
      "[False, False, False, True, False, False, False, False, False, False, False, False, False]\n",
      "[False, False, True, False, True, False, False, False, False, False, False, False, False]\n",
      "[False, False, False, True, False, False, False, False, False, False, False, False, False]\n",
      "[False, False, False, False, False, False, False, False, False, False, False, False, False]\n",
      "[False, False, False, False, False, False, False, False, False, False, False, False, False]\n",
      "[False, False, False, False, False, False, False, False, False, False, False, False, False]\n",
      "[False, False, False, False, False, False, False, False, False, False, False, False, False]\n",
      "[False, False, False, False, False, False, False, False, False, False, False, False, False]\n",
      "[False, False, False, False, False, False, False, False, False, False, False, False, False]\n",
      "[False, False, False, False, False, False, False, False, False, False, False, False, False]\n",
      "13\n"
     ]
    }
   ],
   "source": [
    "for row in anchor_points:\n",
    "    print(row)\n",
    "print(len(anchor_points[0]))"
   ]
  },
  {
   "cell_type": "code",
   "execution_count": 542,
   "metadata": {},
   "outputs": [
    {
     "data": {
      "text/plain": [
       "[]"
      ]
     },
     "execution_count": 542,
     "metadata": {},
     "output_type": "execute_result"
    }
   ],
   "source": [
    "cross_checks()[3][3]"
   ]
  },
  {
   "cell_type": "code",
   "execution_count": 557,
   "metadata": {},
   "outputs": [],
   "source": [
    "rack =['A','B','I','C','U','D','J'] # our tile rack"
   ]
  },
  {
   "cell_type": "code",
   "execution_count": 558,
   "metadata": {
    "scrolled": false
   },
   "outputs": [],
   "source": [
    "checks = cross_checks()\n",
    "def cross_check(square = (0,0)):\n",
    "#     print(square)\n",
    "    return checks[square[0]][square[1]]\n",
    "\n",
    "legal_moves = []\n",
    "for i in range(1,13):\n",
    "    limit = 0\n",
    "    for j in range(1,13):  \n",
    "        if anchor_points[i][j]:\n",
    "            anchor_square = (i,j)\n",
    "            left_square = (i,j-1)\n",
    "#             print(anchor_square)\n",
    "#             print(limit)\n",
    "            LeftPart('',limit, left_square)\n",
    "            limit = 0\n",
    "        limit += 1  # Number of non anchor square to the left of Anchor \n",
    "        if not vacant((i,j)):\n",
    "            limit = 0"
   ]
  },
  {
   "cell_type": "code",
   "execution_count": 559,
   "metadata": {},
   "outputs": [
    {
     "data": {
      "text/plain": [
       "{'ACID',\n",
       " 'AI',\n",
       " 'BI',\n",
       " 'CAID',\n",
       " 'DIB',\n",
       " 'DUI',\n",
       " 'ID',\n",
       " 'JIB',\n",
       " 'QADI',\n",
       " 'QAID',\n",
       " 'QI',\n",
       " 'QUA',\n",
       " 'QUID'}"
      ]
     },
     "execution_count": 559,
     "metadata": {},
     "output_type": "execute_result"
    }
   ],
   "source": [
    "set(legal_moves)"
   ]
  },
  {
   "cell_type": "code",
   "execution_count": 560,
   "metadata": {},
   "outputs": [
    {
     "name": "stdout",
     "output_type": "stream",
     "text": [
      "True\n",
      "True\n",
      "True\n",
      "True\n",
      "True\n",
      "True\n",
      "True\n",
      "True\n",
      "True\n",
      "True\n",
      "True\n",
      "True\n",
      "True\n"
     ]
    }
   ],
   "source": [
    "for word in set(legal_moves):\n",
    "    print(terminal(word))"
   ]
  },
  {
   "cell_type": "code",
   "execution_count": 556,
   "metadata": {},
   "outputs": [
    {
     "ename": "TypeError",
     "evalue": "'function' object is not subscriptable",
     "output_type": "error",
     "traceback": [
      "\u001b[0;31m---------------------------------------------------------------------------\u001b[0m",
      "\u001b[0;31mTypeError\u001b[0m                                 Traceback (most recent call last)",
      "\u001b[0;32m<ipython-input-556-977078b9e289>\u001b[0m in \u001b[0;36m<module>\u001b[0;34m\u001b[0m\n\u001b[0;32m----> 1\u001b[0;31m \u001b[0mterminal\u001b[0m\u001b[0;34m[\u001b[0m\u001b[0;34m'QUAD'\u001b[0m\u001b[0;34m]\u001b[0m\u001b[0;34m\u001b[0m\u001b[0;34m\u001b[0m\u001b[0m\n\u001b[0m",
      "\u001b[0;31mTypeError\u001b[0m: 'function' object is not subscriptable"
     ]
    }
   ],
   "source": [
    "terminal['QUAD']"
   ]
  },
  {
   "cell_type": "code",
   "execution_count": 158,
   "metadata": {
    "scrolled": true
   },
   "outputs": [
    {
     "name": "stdout",
     "output_type": "stream",
     "text": [
      "10485864 MB\n",
      "10485864 MB\n"
     ]
    }
   ],
   "source": [
    "print(sys.getsizeof(dictionary), 'MB')\n",
    "print(sys.getsizeof(trie), 'MB')"
   ]
  },
  {
   "cell_type": "code",
   "execution_count": 155,
   "metadata": {},
   "outputs": [
    {
     "ename": "KeyError",
     "evalue": "'ca'",
     "output_type": "error",
     "traceback": [
      "\u001b[0;31m---------------------------------------------------------------------------\u001b[0m",
      "\u001b[0;31mKeyError\u001b[0m                                  Traceback (most recent call last)",
      "\u001b[0;32m<ipython-input-155-08e7484c2cd9>\u001b[0m in \u001b[0;36m<module>\u001b[0;34m\u001b[0m\n\u001b[0;32m----> 1\u001b[0;31m \u001b[0;32mif\u001b[0m \u001b[0mdictionary\u001b[0m\u001b[0;34m[\u001b[0m\u001b[0;34m'ca'\u001b[0m\u001b[0;34m]\u001b[0m\u001b[0;34m:\u001b[0m\u001b[0;34m\u001b[0m\u001b[0;34m\u001b[0m\u001b[0m\n\u001b[0m\u001b[1;32m      2\u001b[0m     \u001b[0mprint\u001b[0m\u001b[0;34m(\u001b[0m\u001b[0;34m'true'\u001b[0m\u001b[0;34m)\u001b[0m\u001b[0;34m\u001b[0m\u001b[0;34m\u001b[0m\u001b[0m\n",
      "\u001b[0;31mKeyError\u001b[0m: 'ca'"
     ]
    }
   ],
   "source": [
    "if dictionary['ca']:\n",
    "    print('true')"
   ]
  },
  {
   "cell_type": "code",
   "execution_count": 8,
   "metadata": {},
   "outputs": [
    {
     "ename": "NameError",
     "evalue": "name 'nodes' is not defined",
     "output_type": "error",
     "traceback": [
      "\u001b[0;31m---------------------------------------------------------------------------\u001b[0m",
      "\u001b[0;31mNameError\u001b[0m                                 Traceback (most recent call last)",
      "\u001b[0;32m<ipython-input-8-03b7b2351af0>\u001b[0m in \u001b[0;36m<module>\u001b[0;34m\u001b[0m\n\u001b[0;32m----> 1\u001b[0;31m \u001b[0mnodes\u001b[0m\u001b[0;34m[\u001b[0m\u001b[0;34m'c'\u001b[0m\u001b[0;34m]\u001b[0m \u001b[0;34m=\u001b[0m \u001b[0;34m'ca'\u001b[0m\u001b[0;34m\u001b[0m\u001b[0;34m\u001b[0m\u001b[0m\n\u001b[0m\u001b[1;32m      2\u001b[0m \u001b[0mterminal\u001b[0m\u001b[0;34m[\u001b[0m\u001b[0;34m'ca'\u001b[0m\u001b[0;34m]\u001b[0m\u001b[0;34m\u001b[0m\u001b[0;34m\u001b[0m\u001b[0m\n\u001b[1;32m      3\u001b[0m \u001b[0;34m\u001b[0m\u001b[0m\n",
      "\u001b[0;31mNameError\u001b[0m: name 'nodes' is not defined"
     ]
    }
   ],
   "source": [
    "nodes['c'] = 'ca'\n",
    "terminal['ca'] = False\n",
    "\n"
   ]
  },
  {
   "cell_type": "code",
   "execution_count": null,
   "metadata": {},
   "outputs": [],
   "source": []
  }
 ],
 "metadata": {
  "kernelspec": {
   "display_name": "Python 3.6.10 64-bit ('CSE474': conda)",
   "language": "python",
   "name": "python361064bitcse474conda4069b53787014af8a987afe2bdf6ce17"
  },
  "language_info": {
   "codemirror_mode": {
    "name": "ipython",
    "version": 3
   },
   "file_extension": ".py",
   "mimetype": "text/x-python",
   "name": "python",
   "nbconvert_exporter": "python",
   "pygments_lexer": "ipython3",
   "version": "3.6.10"
  }
 },
 "nbformat": 4,
 "nbformat_minor": 4
}
